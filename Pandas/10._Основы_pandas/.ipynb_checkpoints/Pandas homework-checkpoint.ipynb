{
 "cells": [
  {
   "cell_type": "code",
   "execution_count": null,
   "metadata": {},
   "outputs": [],
   "source": [
    "# Задание 1\n",
    "Скачайте с сайта https://grouplens.org/datasets/movielens/ датасет любого размера.\n",
    "Определите какому фильму было выставлено больше всего оценок 5.0."
   ]
  },
  {
   "cell_type": "code",
   "execution_count": 2,
   "metadata": {},
   "outputs": [],
   "source": [
    "import pandas as pd"
   ]
  },
  {
   "cell_type": "code",
   "execution_count": 56,
   "metadata": {},
   "outputs": [
    {
     "data": {
      "text/plain": [
       "Shawshank Redemption, The (1994)    153\n",
       "Name: title, dtype: int64"
      ]
     },
     "execution_count": 56,
     "metadata": {},
     "output_type": "execute_result"
    }
   ],
   "source": [
    "ratings = pd.read_csv('ratings.csv')\n",
    "movies = pd.read_csv('movies.csv')\n",
    "joined = ratings.merge(movies, on='movieId', how='left')\n",
    "joined_filter = joined['rating'].isin(['5.0'])\n",
    "move5 = joined[joined_filter]\n",
    "move5['title'].value_counts().head(1)"
   ]
  },
  {
   "cell_type": "code",
   "execution_count": null,
   "metadata": {},
   "outputs": [],
   "source": [
    "# Задание 2\n",
    "По данным файла power.csv посчитайте суммарное потребление стран Прибалтики \n",
    "(Латвия, Литва и Эстония) категорий 4, 12 и 21 за период с 2005 по 2010 года.\n",
    "Не учитывайте в расчетах отрицательные значения quantity."
   ]
  },
  {
   "cell_type": "code",
   "execution_count": 53,
   "metadata": {},
   "outputs": [
    {
     "data": {
      "text/plain": [
       "164555.0"
      ]
     },
     "execution_count": 53,
     "metadata": {},
     "output_type": "execute_result"
    }
   ],
   "source": [
    "data = pd.read_csv('power.csv')\n",
    "data.head()\n",
    "filter1 = data[ (data['country']=='Lithuania')  | (data['country']=='Latvia') | (data['country']=='Estonia') ]\n",
    "filter2 = filter1[ (filter1['category']== 4) | (filter1['category']== 12) | (filter1['category']== 21)]\n",
    "filter3 = filter2[ (filter2['year'] > 2005) & (filter2['year'] < 2010)]\n",
    "filter4 = filter3[ (filter3['quantity'] > 0)]\n",
    "filter4['quantity'].sum()\n"
   ]
  },
  {
   "cell_type": "code",
   "execution_count": null,
   "metadata": {},
   "outputs": [],
   "source": [
    "# Задание 3\n",
    "Выберите страницу любого сайта с табличными данными. Импортируйте таблицы в pandas dataframe.\n",
    "Примеры страниц (необязательно брать именно эти):\n",
    "https://fortrader.org/quotes\n",
    "https://www.finanz.ru/valyuty/v-realnom-vremeni"
   ]
  },
  {
   "cell_type": "code",
   "execution_count": 61,
   "metadata": {},
   "outputs": [
    {
     "data": {
      "text/plain": [
       "[                   Название                      Страна  Партнерка  \\\n",
       " 0                БКС Форекс    Сент-Винсент и Гренадины        NaN   \n",
       " 1                Робофорекс                       Белиз        NaN   \n",
       " 2                     FxPro                        Кипр        NaN   \n",
       " 3                FreshForex    Сент-Винсент и Гренадины        NaN   \n",
       " 4               BFB Capital                    Беларусь        NaN   \n",
       " 5                 RannForex                    Сейшеллы        NaN   \n",
       " 6                   Альпари    Сент-Винсент и Гренадины        NaN   \n",
       " 7                      FXTM                        Кипр        NaN   \n",
       " 8                      GKFX                      Турция        NaN   \n",
       " 9                  FinmaxFX                    Сейшеллы        NaN   \n",
       " 10  Imperial Global Markets    Сент-Винсент и Гренадины        NaN   \n",
       " 11  Fort Financial Services                       Белиз        NaN   \n",
       " 12                   Exness                        Кипр        NaN   \n",
       " 13          Admiral Markets   Австралия, Великобритания        NaN   \n",
       " 14             ARUM Capital                        Кипр        NaN   \n",
       " 15                      FBS                       Белиз        NaN   \n",
       " 16                LiteForex          Маршалловы острова        NaN   \n",
       " 17                TeleTrade    Сент-Винсент и Гренадины        NaN   \n",
       " 18           Dukascopy Bank                   Швейцария        NaN   \n",
       " 19             Альфа-Форекс  Британские Виргинские о-ва        NaN   \n",
       " 20                 AMarkets    Сент-Винсент и Гренадины        NaN   \n",
       " 21                JustForex                       Белиз        NaN   \n",
       " 22               MFX Broker                       Белиз        NaN   \n",
       " 23                  STForex    Сент-Винсент и Гренадины        NaN   \n",
       " 24                    NPBFX                       Белиз        NaN   \n",
       " 25                 TradeLTD                     Эстония        NaN   \n",
       " 26                    Amega          Маршалловы острова        NaN   \n",
       " 27                   ICE FX                    Малайзия        NaN   \n",
       " 28              Форекс клуб  Британские Виргинские о-ва        NaN   \n",
       " 29            Grand Capital                    Сейшеллы        NaN   \n",
       " 30               InstaForex  Британские Виргинские о-ва        NaN   \n",
       " 31                 Tickmill    Сейшеллы, Великобритания        NaN   \n",
       " \n",
       "     Год основания  Рейтинг  Отзывы  \n",
       " 0            2004      8.3       3  \n",
       " 1            2009      9.5      20  \n",
       " 2            2006      9.3      43  \n",
       " 3            2004      8.4     152  \n",
       " 4            2018      7.0       1  \n",
       " 5            2017      6.7       0  \n",
       " 6            1998      6.0       0  \n",
       " 7            2010      5.5      21  \n",
       " 8            2009      5.0      25  \n",
       " 9            2017     10.0      50  \n",
       " 10           2014     10.0      12  \n",
       " 11           2010     10.0       9  \n",
       " 12           2010      0.0      31  \n",
       " 13           2001      0.0       3  \n",
       " 14           2016      0.0       0  \n",
       " 15           2009      0.0      33  \n",
       " 16           2005      0.0      67  \n",
       " 17           1994      0.0      28  \n",
       " 18           2004      0.0       0  \n",
       " 19           2003      0.0      32  \n",
       " 20           2007      0.0      16  \n",
       " 21           2012      0.0      25  \n",
       " 22           2006      0.0     150  \n",
       " 23           2014      0.0       2  \n",
       " 24           1996      0.0      22  \n",
       " 25           2018      0.0       0  \n",
       " 26           2017      0.0       1  \n",
       " 27           2015      0.0       0  \n",
       " 28           1997      0.0      18  \n",
       " 29           2006      0.0       2  \n",
       " 30           2007      0.0      84  \n",
       " 31           2014      0.0      39  ]"
      ]
     },
     "execution_count": 61,
     "metadata": {},
     "output_type": "execute_result"
    }
   ],
   "source": [
    "page_url = ('https://fortrader.org/topbrokers/')\n",
    "df = pd.read_html(page_url, encoding='utf-8')\n",
    "df[:]"
   ]
  }
 ],
 "metadata": {
  "kernelspec": {
   "display_name": "Python 3",
   "language": "python",
   "name": "python3"
  },
  "language_info": {
   "codemirror_mode": {
    "name": "ipython",
    "version": 3
   },
   "file_extension": ".py",
   "mimetype": "text/x-python",
   "name": "python",
   "nbconvert_exporter": "python",
   "pygments_lexer": "ipython3",
   "version": "3.7.4"
  }
 },
 "nbformat": 4,
 "nbformat_minor": 2
}
