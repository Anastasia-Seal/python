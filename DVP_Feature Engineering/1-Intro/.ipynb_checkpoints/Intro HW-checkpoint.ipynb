{
 "cells": [
  {
   "cell_type": "code",
   "execution_count": 1,
   "metadata": {},
   "outputs": [],
   "source": [
    "import numpy as np\n",
    "import pandas as pd\n",
    "\n",
    "from sklearn.linear_model import LinearRegression"
   ]
  },
  {
   "cell_type": "code",
   "execution_count": 32,
   "metadata": {},
   "outputs": [
    {
     "data": {
      "text/html": [
       "<div>\n",
       "<style scoped>\n",
       "    .dataframe tbody tr th:only-of-type {\n",
       "        vertical-align: middle;\n",
       "    }\n",
       "\n",
       "    .dataframe tbody tr th {\n",
       "        vertical-align: top;\n",
       "    }\n",
       "\n",
       "    .dataframe thead th {\n",
       "        text-align: right;\n",
       "    }\n",
       "</style>\n",
       "<table border=\"1\" class=\"dataframe\">\n",
       "  <thead>\n",
       "    <tr style=\"text-align: right;\">\n",
       "      <th></th>\n",
       "      <th>spaciousness</th>\n",
       "      <th>km</th>\n",
       "      <th>pilot_age</th>\n",
       "      <th>price</th>\n",
       "    </tr>\n",
       "  </thead>\n",
       "  <tbody>\n",
       "    <tr>\n",
       "      <td>0</td>\n",
       "      <td>43</td>\n",
       "      <td>458</td>\n",
       "      <td>46</td>\n",
       "      <td>1969400</td>\n",
       "    </tr>\n",
       "    <tr>\n",
       "      <td>1</td>\n",
       "      <td>63</td>\n",
       "      <td>778</td>\n",
       "      <td>71</td>\n",
       "      <td>4901400</td>\n",
       "    </tr>\n",
       "    <tr>\n",
       "      <td>2</td>\n",
       "      <td>114</td>\n",
       "      <td>211</td>\n",
       "      <td>15</td>\n",
       "      <td>2405400</td>\n",
       "    </tr>\n",
       "    <tr>\n",
       "      <td>3</td>\n",
       "      <td>63</td>\n",
       "      <td>389</td>\n",
       "      <td>62</td>\n",
       "      <td>2450700</td>\n",
       "    </tr>\n",
       "    <tr>\n",
       "      <td>4</td>\n",
       "      <td>70</td>\n",
       "      <td>1359</td>\n",
       "      <td>49</td>\n",
       "      <td>9513000</td>\n",
       "    </tr>\n",
       "  </tbody>\n",
       "</table>\n",
       "</div>"
      ],
      "text/plain": [
       "   spaciousness    km  pilot_age    price\n",
       "0            43   458         46  1969400\n",
       "1            63   778         71  4901400\n",
       "2           114   211         15  2405400\n",
       "3            63   389         62  2450700\n",
       "4            70  1359         49  9513000"
      ]
     },
     "execution_count": 32,
     "metadata": {},
     "output_type": "execute_result"
    }
   ],
   "source": [
    "# Создаём сэмпл (зависимость стоимости билета на самолет от разных факторов)\n",
    "# sp - вместительность самолета\n",
    "# km - расстояние полета\n",
    "# pilot_age - возраст пилота\n",
    "n_samples = 500\n",
    "\n",
    "sp = np.random.choice(100, n_samples) + 15\n",
    "km = np.random.choice(2000, n_samples) + 155\n",
    "pilot_age = np.random.choice(65, n_samples) + 10\n",
    "\n",
    "price = km * sp * 100\n",
    "\n",
    "data = pd.DataFrame({'spaciousness': sp, 'km': km, 'pilot_age': pilot_age, 'price': price})\n",
    "data.head(5)"
   ]
  },
  {
   "cell_type": "code",
   "execution_count": 33,
   "metadata": {},
   "outputs": [
    {
     "name": "stdout",
     "output_type": "stream",
     "text": [
      "Weights: [115188.09440618   6428.39646031  -1496.24060874]\n",
      "Bias: -7418343.683680541\n",
      "Error: 1260168.68378734\n"
     ]
    }
   ],
   "source": [
    "from sklearn.metrics import mean_absolute_error\n",
    "\n",
    "X = data[['spaciousness', 'km', 'pilot_age']]\n",
    "y = data['price']\n",
    "reg = LinearRegression().fit(X, y)\n",
    "print('Weights: {}'.format(reg.coef_))\n",
    "print('Bias: {}'.format(reg.intercept_))\n",
    "\n",
    "pred_values = reg.predict(data[['spaciousness', 'km', 'pilot_age']])\n",
    "print('Error: {}'.format(mean_absolute_error(pred_values, y)))"
   ]
  },
  {
   "cell_type": "code",
   "execution_count": 8,
   "metadata": {},
   "outputs": [],
   "source": [
    "# Ошибка большая\n",
    "#Создаю новый признак km/sp "
   ]
  },
  {
   "cell_type": "code",
   "execution_count": 34,
   "metadata": {},
   "outputs": [
    {
     "data": {
      "text/html": [
       "<div>\n",
       "<style scoped>\n",
       "    .dataframe tbody tr th:only-of-type {\n",
       "        vertical-align: middle;\n",
       "    }\n",
       "\n",
       "    .dataframe tbody tr th {\n",
       "        vertical-align: top;\n",
       "    }\n",
       "\n",
       "    .dataframe thead th {\n",
       "        text-align: right;\n",
       "    }\n",
       "</style>\n",
       "<table border=\"1\" class=\"dataframe\">\n",
       "  <thead>\n",
       "    <tr style=\"text-align: right;\">\n",
       "      <th></th>\n",
       "      <th>spaciousness</th>\n",
       "      <th>km</th>\n",
       "      <th>pilot_age</th>\n",
       "      <th>price</th>\n",
       "      <th>km/sp</th>\n",
       "    </tr>\n",
       "  </thead>\n",
       "  <tbody>\n",
       "    <tr>\n",
       "      <td>0</td>\n",
       "      <td>43</td>\n",
       "      <td>458</td>\n",
       "      <td>46</td>\n",
       "      <td>1969400</td>\n",
       "      <td>19694</td>\n",
       "    </tr>\n",
       "    <tr>\n",
       "      <td>1</td>\n",
       "      <td>63</td>\n",
       "      <td>778</td>\n",
       "      <td>71</td>\n",
       "      <td>4901400</td>\n",
       "      <td>49014</td>\n",
       "    </tr>\n",
       "    <tr>\n",
       "      <td>2</td>\n",
       "      <td>114</td>\n",
       "      <td>211</td>\n",
       "      <td>15</td>\n",
       "      <td>2405400</td>\n",
       "      <td>24054</td>\n",
       "    </tr>\n",
       "    <tr>\n",
       "      <td>3</td>\n",
       "      <td>63</td>\n",
       "      <td>389</td>\n",
       "      <td>62</td>\n",
       "      <td>2450700</td>\n",
       "      <td>24507</td>\n",
       "    </tr>\n",
       "    <tr>\n",
       "      <td>4</td>\n",
       "      <td>70</td>\n",
       "      <td>1359</td>\n",
       "      <td>49</td>\n",
       "      <td>9513000</td>\n",
       "      <td>95130</td>\n",
       "    </tr>\n",
       "  </tbody>\n",
       "</table>\n",
       "</div>"
      ],
      "text/plain": [
       "   spaciousness    km  pilot_age    price  km/sp\n",
       "0            43   458         46  1969400  19694\n",
       "1            63   778         71  4901400  49014\n",
       "2           114   211         15  2405400  24054\n",
       "3            63   389         62  2450700  24507\n",
       "4            70  1359         49  9513000  95130"
      ]
     },
     "execution_count": 34,
     "metadata": {},
     "output_type": "execute_result"
    }
   ],
   "source": [
    "data['km/sp'] = data['km'] * data['spaciousness']\n",
    "data.head(5)"
   ]
  },
  {
   "cell_type": "code",
   "execution_count": 35,
   "metadata": {},
   "outputs": [
    {
     "name": "stdout",
     "output_type": "stream",
     "text": [
      "Weights: [100.]\n",
      "Bias: -9.313225746154785e-10\n",
      "Error: 4.390021786093712e-10\n"
     ]
    }
   ],
   "source": [
    "X = data[['km/sp']]\n",
    "y = data['price']\n",
    "reg = LinearRegression().fit(X, y)\n",
    "print('Weights: {}'.format(reg.coef_))\n",
    "print('Bias: {}'.format(reg.intercept_))\n",
    "\n",
    "pred_values = reg.predict(data[['km/sp']])\n",
    "print('Error: {}'.format(mean_absolute_error(pred_values, y)))"
   ]
  },
  {
   "cell_type": "code",
   "execution_count": null,
   "metadata": {},
   "outputs": [],
   "source": [
    "# Ошибка существенно меньше"
   ]
  }
 ],
 "metadata": {
  "kernelspec": {
   "display_name": "Python 3",
   "language": "python",
   "name": "python3"
  },
  "language_info": {
   "codemirror_mode": {
    "name": "ipython",
    "version": 3
   },
   "file_extension": ".py",
   "mimetype": "text/x-python",
   "name": "python",
   "nbconvert_exporter": "python",
   "pygments_lexer": "ipython3",
   "version": "3.7.4"
  }
 },
 "nbformat": 4,
 "nbformat_minor": 2
}
