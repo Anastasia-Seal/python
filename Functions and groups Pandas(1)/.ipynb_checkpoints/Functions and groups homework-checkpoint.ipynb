{
 "cells": [
  {
   "cell_type": "code",
   "execution_count": null,
   "metadata": {},
   "outputs": [],
   "source": [
    "Задание 1\n",
    "\n",
    "Напишите функцию, которая классифицирует фильмы из материалов занятия по следующим правилам:\n",
    "- оценка 2 и меньше - низкий рейтинг\n",
    "- оценка 4 и меньше - средний рейтинг\n",
    "- оценка 4.5 и 5 - высокий рейтинг\n",
    "\n",
    "Результат классификации запишите в столбец class"
   ]
  },
  {
   "cell_type": "code",
   "execution_count": null,
   "metadata": {},
   "outputs": [],
   "source": [
    "import pandas as pd"
   ]
  },
  {
   "cell_type": "code",
   "execution_count": null,
   "metadata": {},
   "outputs": [],
   "source": [
    "def class_(param):\n",
    "    if param <= 2.0:\n",
    "        return 'низкий рейтинг'\n",
    "    if param <= 4.0:\n",
    "        return 'средний рейтинг'\n",
    "    if param > 4:\n",
    "        return 'высокий рейтинг'"
   ]
  },
  {
   "cell_type": "code",
   "execution_count": null,
   "metadata": {},
   "outputs": [],
   "source": [
    "ratings = pd.read_csv('ratings.csv')\n",
    "movies = pd.read_csv('movies.csv')\n",
    "joined = ratings.merge(movies, on='movieId', how='left')\n",
    "df = joined.filter(items = ['title', 'rating'])\n",
    "df['class_'] = df['rating'].apply(class_)\n",
    "df.head()"
   ]
  },
  {
   "cell_type": "code",
   "execution_count": null,
   "metadata": {},
   "outputs": [],
   "source": [
    "Задание 2\n",
    "\n",
    "Используем файл keywords.csv.\n",
    "\n",
    "Необходимо написать гео-классификатор, который каждой строке сможет \n",
    "выставить географическую принадлежность определенному региону. \n",
    "Т. е. если поисковый запрос содержит название города региона,\n",
    "то в столбце ‘region’ пишется название этого региона. \n",
    "Если поисковый запрос не содержит названия города, то ставим ‘undefined’.\n",
    "\n",
    "Правила распределения по регионам Центр, Северо-Запад и Дальний Восток:\n",
    "\n",
    "geo_data = {\n",
    "\n",
    "'Центр': ['москва', 'тула', 'ярославль'],\n",
    "\n",
    "'Северо-Запад': ['петербург', 'псков', 'мурманск'],\n",
    "\n",
    "'Дальний Восток': ['владивосток', 'сахалин', 'хабаровск']\n",
    "}\n",
    "\n",
    "Результат классификации запишите в отдельный столбец region.\n"
   ]
  },
  {
   "cell_type": "code",
   "execution_count": null,
   "metadata": {},
   "outputs": [],
   "source": [
    "geo_data = {'Center': ['москва', 'тула', 'ярославль'],'Zapad': ['петербург', 'псков', 'мурманск'],\n",
    "'Vostok': ['владивосток', 'сахалин', 'хабаровск']}\n",
    " \n",
    "df = pd.DataFrame({'Center': ['москва', 'тула', 'ярославль'],'Zapad': ['петербург', 'псков', 'мурманск'],\n",
    "'Vostok': ['владивосток', 'сахалин', 'хабаровск']})\n",
    "df"
   ]
  },
  {
   "cell_type": "code",
   "execution_count": null,
   "metadata": {},
   "outputs": [],
   "source": [
    "def reg (param):\n",
    "    if 'москва' in param:\n",
    "        return 'Центр'\n",
    "    if 'тула' in param:\n",
    "        return 'Центр'\n",
    "    if 'ярославль' in param:\n",
    "        return 'Центр'\n",
    "    if 'петербург' in param:\n",
    "        return 'Северо-Запад'\n",
    "    if 'псков' in param:\n",
    "        return 'Северо-Запад'\n",
    "    if 'мурманск' in param:\n",
    "        return 'Северо-Запад'\n",
    "    if 'владивосток' in param:\n",
    "        return 'Дальний Восток'\n",
    "    if 'сахалин' in param:\n",
    "        return 'Дальний Восток'\n",
    "    if 'хабаровск' in param:\n",
    "        return 'Дальний Восток'\n",
    "    else:\n",
    "        return 'Undefined'\n",
    "    \n",
    "    "
   ]
  },
  {
   "cell_type": "code",
   "execution_count": null,
   "metadata": {},
   "outputs": [],
   "source": [
    "towns = pd.read_csv('keywords.csv')\n",
    "towns['region'] = towns['keyword'].apply(reg)\n",
    "towns.head()"
   ]
  },
  {
   "cell_type": "code",
   "execution_count": null,
   "metadata": {},
   "outputs": [],
   "source": [
    "Задание 3 (бонусное)\n",
    "\n",
    "Есть мнение, что “раньше снимали настоящее кино, не то что сейчас”. \n",
    "Ваша задача проверить это утверждение, используя файлы с рейтингами фильмов из прошлого домашнего \n",
    "занятия (файл ratings.csv из базы https://grouplens.org/datasets/movielens). \n",
    "Т. е. проверить верно ли, что с ростом года выпуска фильма его средний рейтинг становится ниже.\n",
    "\n",
    "При этом мы не будем затрагивать субьективные факторы выставления этих рейтингов, \n",
    "а пройдемся по следующему алгоритму:\n",
    "\n",
    "В переменную years запишите список из всех годов с 1950 по 2010.\n",
    "\n",
    "Напишите функцию production_year, которая каждой строке из названия фильма выставляет год выпуска. \n",
    "Не все названия фильмов содержат год выпуска в одинаковом формате, поэтому используйте следующий алгоритм:\n",
    "\n",
    "для каждой строки пройдите по всем годам списка years\n",
    "если номер года присутствует в названии фильма, то функция возвращает этот год как год выпуска\n",
    "если ни один из номеров года списка years не встретился в названии фильма, то возвращается 1900 год\n",
    "Запишите год выпуска фильма по алгоритму пункта 2 в новый столбец ‘year’\n",
    "\n",
    "Посчитайте средний рейтинг всех фильмов для каждого значения столбца ‘year’ и \n",
    "отсортируйте результат по убыванию рейтинга"
   ]
  },
  {
   "cell_type": "code",
   "execution_count": null,
   "metadata": {},
   "outputs": [],
   "source": [
    "movies = pd.read_csv('movies.csv')\n",
    "ratings = pd.read_csv('ratings.csv')\n",
    "joined = ratings.merge(movies, on='movieId', how='left')\n",
    "joined.head()"
   ]
  },
  {
   "cell_type": "code",
   "execution_count": null,
   "metadata": {},
   "outputs": [],
   "source": [
    "YEARS = set(range(2010, 1949, -1))\n",
    "print(YEARS)"
   ]
  }
 ],
 "metadata": {
  "kernelspec": {
   "display_name": "Python 3",
   "language": "python",
   "name": "python3"
  },
  "language_info": {
   "codemirror_mode": {
    "name": "ipython",
    "version": 3
   },
   "file_extension": ".py",
   "mimetype": "text/x-python",
   "name": "python",
   "nbconvert_exporter": "python",
   "pygments_lexer": "ipython3",
   "version": "3.7.4"
  }
 },
 "nbformat": 4,
 "nbformat_minor": 2
}
