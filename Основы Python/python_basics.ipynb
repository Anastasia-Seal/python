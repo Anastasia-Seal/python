{
 "cells": [
  {
   "cell_type": "markdown",
   "metadata": {},
   "source": [
    "**Задание 1**. Даны 2 строки: *long_phrase* и *short_phrase*. \n",
    "Напишите код, который проверяет действительно ли длинная фраза *long_phrase* длиннее короткой *short_phrase*. И выводит *True* или *False* в зависимости от результата сравнения."
   ]
  },
  {
   "cell_type": "code",
   "execution_count": null,
   "metadata": {},
   "outputs": [],
   "source": [
    "long_phrase = 'Насколько проще было бы писать программы, если бы не заказчики'\n",
    "short_phrase = '640Кб должно хватить для любых задач. Билл Гейтс (по легенде)'"
   ]
  },
  {
   "cell_type": "code",
   "execution_count": 2,
   "metadata": {},
   "outputs": [
    {
     "data": {
      "text/plain": [
       "True"
      ]
     },
     "execution_count": 2,
     "metadata": {},
     "output_type": "execute_result"
    }
   ],
   "source": [
    "long_phrase = 'Насколько проще было бы писать программы, если бы не заказчики'\n",
    "short_phrase = '640Кб должно хватить для любых задач. Билл Гейтс (по легенде)'\n",
    "long_phrase > short_phrase"
   ]
  },
  {
   "cell_type": "markdown",
   "metadata": {},
   "source": [
    "**Задание 2**. Дано значение объема файла в байтах (*в мегабайте 2^20 байт*). Напишите перевод этого значения в мегабайты в формате: \"*Объем файла равен 213.68Mb*\"."
   ]
  },
  {
   "cell_type": "code",
   "execution_count": 18,
   "metadata": {},
   "outputs": [
    {
     "name": "stdout",
     "output_type": "stream",
     "text": [
      "введите объем файла в байтах2222222222222\n",
      "Объем файла равен 2119276.26 Mb\n"
     ]
    }
   ],
   "source": [
    "v = int(input(\"Bведите объем файла в байтах\"))\n",
    "vmb = (v / 2**20)\n",
    "print (\"Объем файла равен %.2f\" % vmb, \"Mb\")"
   ]
  },
  {
   "cell_type": "markdown",
   "metadata": {},
   "source": [
    "**Задание 3**. Разработать приложение для определения знака зодиака по дате рождения. Пример:\n",
    "\n",
    "Введите месяц: март\n",
    "\n",
    "Введите число: 6\n",
    "\n",
    "Вывод:\n",
    "Рыбы"
   ]
  },
  {
   "cell_type": "code",
   "execution_count": null,
   "metadata": {},
   "outputs": [],
   "source": []
  },
  {
   "cell_type": "code",
   "execution_count": 18,
   "metadata": {},
   "outputs": [
    {
     "name": "stdout",
     "output_type": "stream",
     "text": [
      "Введите месяц (с заглавной буквы): Сентябрь\n",
      "Введите число: 9\n",
      "Дева\n"
     ]
    }
   ],
   "source": [
    "month = input('Введите месяц (с заглавной буквы): ')\n",
    "day = int(input('Введите число: '))\n",
    "if (month == 'Март' and 31 > day > 20) or (month == 'Апрель' and  0 < day <= 20):\n",
    "    print ('Овен')\n",
    "elif (month == 'Апрель' and 30 > day > 20) or (month == 'Май' and 0 < day <= 21):\n",
    "    print('Телец')\n",
    "elif (month == 'Май' and 31 > day > 21) or (month == 'Июнь' and 0 < day <= 21):\n",
    "    print('Близнецы')\n",
    "elif (month == 'Июнь' and 30 > day > 21) or (month == 'Июль' and 0 < day <= 22):\n",
    "    print ('Рак')\n",
    "elif (month == 'Июль' and 31 > day > 22) or (month == 'Август' and 0 < day <= 24):\n",
    "    print ('Лев')\n",
    "elif (month == 'Август' and 31 > day > 25) or (month == 'Сентябрь' and 0 < day <= 22):\n",
    "    print ('Дева')\n",
    "elif (month == 'Сентябрь' and 30 > day > 24) or (month == 'Октябрь' and 0 < day <= 22):\n",
    "    print ('Весы')\n",
    "elif (month == 'Октябрь' and 31 > day > 24) or (month == 'Ноябрь' and 0 < day <= 22):\n",
    "    print ('Скорпион')\n",
    "elif (month == 'Ноябрь' and 30 > day > 21) or (month == 'Декабрь' and 0 < day <= 21):\n",
    "    print ('Стрелец')\n",
    "elif (month == 'Декабрь' and 31 > day > 21) or (month == 'Январь' and 0 < day <= 20):\n",
    "    print ('Козерог')\n",
    "elif (month == 'Январь' and 30 > day > 20) or (month == 'Февраль' and 0 < day <= 19):\n",
    "    print ('Водолей')\n",
    "elif (month == 'Февраль' and 29 > day > 19) or (month == 'Март' and 0 < day <= 20):\n",
    "    print ('Рыбы')\n",
    "else:    \n",
    "    print ('Неверный формат даты')   \n"
   ]
  },
  {
   "cell_type": "markdown",
   "metadata": {},
   "source": [
    "**Задание 4**. Нужно разработать приложение для финансового планирования.\n",
    "Приложение учитывает сколько уходит на ипотеку, \"на жизнь\" и сколько нужно отложить на пенсию.\n",
    "Пользователь вводит:\n",
    "- заработанную плату в месяц.\n",
    "- сколько процентов от ЗП уходит на ипотеку.\n",
    "- сколько процентов от ЗП уходит \"на жизнь\".\n",
    "- сколько раз приходит премия в год.\n",
    "\n",
    "Остальная часть заработанной платы откладывается на пенсию.\n",
    "\n",
    "Также пользователю приходит премия в размере зарплаты, от которой половина уходит на отпуск, а вторая половина откладывается.\n",
    "\n",
    "Программа должна учитывать сколько премий было в год.\n",
    "\n",
    "Нужно вывести сколько денег тратит пользователь на ипотеку и сколько он накопит за год.\n",
    "\n",
    "Пример:\n",
    "\n",
    "Введите заработанную плату в месяц: 100000\n",
    "\n",
    "Введите сколько процентов уходит на ипотеку: 30\n",
    "\n",
    "Введите сколько процентов уходит на жизнь: 50\n",
    "\n",
    "Введите количество премий за год: 2\n",
    "\n",
    "Вывод:\n",
    "На ипотеку было потрачено: 360000 рублей\n",
    "Было накоплено: 340000 рублей"
   ]
  },
  {
   "cell_type": "code",
   "execution_count": null,
   "metadata": {},
   "outputs": [],
   "source": [
    "salary = int(input('Введите заработанную плату в месяц: '))\n",
    "mortgage = int(input('Введите сколько процентов уходит на ипотеку: '))\n",
    "life = int(input('Введите сколько процентов уходит на жизнь: '))\n",
    "bonus = int(input('Введите количество премий за год: '))\n",
    "mortgage_sp = salary * mortgage/100 * 12\n",
    "capital = (salary * (100 - mortgage - life) / 100 * 12) + (salary / 2 * bonus)\n",
    "print ('На ипотеку было потрачено: %.0f' % mortgage_sp , 'рублей Было накоплено: %.0f' % capital, 'рублей')\n",
    "\n"
   ]
  }
 ],
 "metadata": {
  "kernelspec": {
   "display_name": "Python 3",
   "language": "python",
   "name": "python3"
  },
  "language_info": {
   "codemirror_mode": {
    "name": "ipython",
    "version": 3
   },
   "file_extension": ".py",
   "mimetype": "text/x-python",
   "name": "python",
   "nbconvert_exporter": "python",
   "pygments_lexer": "ipython3",
   "version": "3.7.4"
  }
 },
 "nbformat": 4,
 "nbformat_minor": 2
}
