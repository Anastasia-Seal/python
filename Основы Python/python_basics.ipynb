{
 "cells": [],
 "metadata": {
  "kernelspec": {
   "display_name": "Python 3",
   "language": "python",
   "name": "python3"
  },
  "language_info": {
   "codemirror_mode": {
    "name": "ipython",
    "version": 3
   },
   "file_extension": ".py",
   "mimetype": "text/x-python",
   "name": "python",
   "nbconvert_exporter": "python",
   "pygments_lexer": "ipython3",
   "version": "3.7.4"
  },
  "pycharm": {
   "stem_cell": {
    "cell_type": "raw",
    "source": [
     "#\n",
     "month = input('Введите месяц (с заглавной буквы): ')\n",
     "day = int(input('Введите число: '))\n",
     "if (month == 'Март' and 31 > day > 20) or (month == 'Апрель' and  0 < day <= 20):\n",
     "    print ('Овен')\n",
     "elif (month == 'Апрель' and 30 > day > 20) or (month == 'Май' and 0 < day <= 21):\n",
     "    print('Телец')\n",
     "elif (month == 'Май' and 31 > day > 21) or (month == 'Июнь' and 0 < day <= 21):\n",
     "    print('Близнецы')\n",
     "elif (month == 'Июнь' and 30 > day > 21) or (month == 'Июль' and 0 < day <= 22):\n",
     "    print ('Рак')\n",
     "elif (month == 'Июль' and 31 > day > 22) or (month == 'Август' and 0 < day <= 24):\n",
     "    print ('Лев')\n",
     "elif (month == 'Август' and 31 > day > 25) or (month == 'Сентябрь' and 0 < day <= 22):\n",
     "    print ('Дева')\n",
     "elif (month == 'Сентябрь' and 30 > day > 24) or (month == 'Октябрь' and 0 < day <= 22):\n",
     "    print ('Весы')\n",
     "elif (month == 'Октябрь' and 31 > day > 24) or (month == 'Ноябрь' and 0 < day <= 22):\n",
     "    print ('Скорпион')\n",
     "elif (month == 'Ноябрь' and 30 > day > 21) or (month == 'Декабрь' and 0 < day <= 21):\n",
     "    print ('Стрелец')\n",
     "elif (month == 'Декабрь' and 31 > day > 21) or (month == 'Январь' and 0 < day <= 20):\n",
     "    print ('Козерог')\n",
     "elif (month == 'Январь' and 30 > day > 20) or (month == 'Февраль' and 0 < day <= 19):\n",
     "    print ('Водолей')\n",
     "elif (month == 'Февраль' and 29 > day > 19) or (month == 'Март' and 0 < day <= 20):\n",
     "    print ('Рыбы')\n",
     "else:    \n",
     "    print ('Неверный формат даты')   \n",
     "\n"
    ],
    "metadata": {
     "collapsed": false
    }
   }
  }
 },
 "nbformat": 4,
 "nbformat_minor": 2
}