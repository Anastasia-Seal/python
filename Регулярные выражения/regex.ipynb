{
 "cells": [
  {
   "cell_type": "markdown",
   "metadata": {},
   "source": [
    "**Задание 1.** Напишите функцию, которая принимает на вход строку и проверяет является ли она валидным транспортным номером. Если да, то функция должна возвращать отдельно номер и регион."
   ]
  },
  {
   "cell_type": "code",
   "execution_count": 2,
   "metadata": {},
   "outputs": [],
   "source": [
    "import re"
   ]
  },
  {
   "cell_type": "code",
   "execution_count": 10,
   "metadata": {},
   "outputs": [
    {
     "name": "stdout",
     "output_type": "stream",
     "text": [
      "Enter vehicle numberВ789ВВ123\n",
      "The number В789ВВ123 is valid\n"
     ]
    }
   ],
   "source": [
    "def veh_num():\n",
    "    num = input('Enter vehicle number')\n",
    "\n",
    "    regex_pass = '([А|В|Е|К|М|Н|О|Р|С|Т|У|Х]{1}[0-9]{3}[А|В|Е|К|М|Н|О|Р|С|Т|У|Х]{2}[0-9]{2,3})'\n",
    "\n",
    "    if re.search(regex_pass, num):\n",
    "        result = ('The number {} is valid'.format(num))\n",
    "    else:\n",
    "        result = ('The number {} is invalid'.format(num)) \n",
    "    print(result)\n",
    "    \n",
    "veh_num()"
   ]
  },
  {
   "cell_type": "markdown",
   "metadata": {},
   "source": [
    "**Задание 2**. Напишите функцию, которая проверяет e-mail адрес на валидность по стандарту RFC822: http://www.w3.org/Protocols/rfc822/. Для этого постарайтесь написать (в крайнем случае найти) самый полный шаблон для проверки e-mail адресов через регулярное выражение. Разберитесь и напишите примеры, какие ваш шаблон может не охватить."
   ]
  },
  {
   "cell_type": "code",
   "execution_count": null,
   "metadata": {},
   "outputs": [],
   "source": [
    "самый полный вот http://www.ex-parrot.com/~pdw/Mail-RFC822-Address.html :)\n",
    "пример ниже не охватит несуществующие домены (test@polniybred.comp)"
   ]
  },
  {
   "cell_type": "code",
   "execution_count": 12,
   "metadata": {},
   "outputs": [
    {
     "name": "stdout",
     "output_type": "stream",
     "text": [
      "Enter mailadruzhinina@appulate.com\n",
      "The mail adruzhinina@appulate.com is valid\n"
     ]
    }
   ],
   "source": [
    "def mail_valid():\n",
    "    mail = input('Enter mail')\n",
    "    norm_mail = '(^|\\s)[-a-z0-9_.]+@([-a-z0-9]+\\.)+[a-z]{2,6}(\\s|$)'\n",
    "    if re.search(norm_mail, mail):\n",
    "        result = ('The mail {} is valid'.format(mail))\n",
    "    else:\n",
    "        result = ('The mail {} is invalid'.format(mail)) \n",
    "    print(result)\n",
    "    \n",
    "mail_valid()"
   ]
  },
  {
   "cell_type": "markdown",
   "metadata": {},
   "source": [
    "**Задание 3.** Напишите функцию, которая будет удалять все последовательные повторы слов из заданной строки при помощи регулярных выражений."
   ]
  },
  {
   "cell_type": "code",
   "execution_count": 14,
   "metadata": {},
   "outputs": [
    {
     "name": "stdout",
     "output_type": "stream",
     "text": [
      "понедельник вторник среда четверг пятница суббота\n"
     ]
    }
   ],
   "source": [
    "def remove_double():\n",
    "    s = \"понедельник вторник вторник среда среда четверг пятница суббота суббота\"\n",
    "    result = ( re.sub(r'\\b([^\\W\\d_]+)(\\s+\\1)+\\b', r'\\1', re.sub(r'\\W+', ' ', s).strip(), flags=re.I))\n",
    "    print(result)\n",
    "\n",
    "remove_double()"
   ]
  },
  {
   "cell_type": "markdown",
   "metadata": {},
   "source": [
    "**Задание 4**. Напишите функцию, которая будет проверять номер сотового телефона на валидность, если он валиден, то переводить его в формат:   \n",
    "+7(xxx)-xxx-xx-xx  \n",
    "Постарайтесь предусмотреть как можно больше адекватных форматов изначального ввода номера.\n",
    "Примеры валидных форматов:\n",
    "- +7 955 555-55-55;\n",
    "- 9555555555;\n",
    "- 8(955)555-55-55;\n",
    "- +7 955 555 55 55;\n",
    "- 7(955) 555-55-55;\n",
    "- +7 955+555+55+55."
   ]
  },
  {
   "cell_type": "code",
   "execution_count": 15,
   "metadata": {},
   "outputs": [
    {
     "name": "stdout",
     "output_type": "stream",
     "text": [
      "Insert phone number89218610386\n",
      "+7(921)-861-03-86\n"
     ]
    }
   ],
   "source": [
    "def phone_mask():\n",
    "    numb = input('Insert phone number')\n",
    "    number = '^((8|\\+7)[\\- ]?)?(\\(?\\d{3}\\)?[\\- ]?)?[\\d\\- ]{7,10}$'\n",
    "    pattern = '+7([0-9]{3})[0-9]{3}-[0-9]{2}-[0-9]{2}'\n",
    "    if re.search(number, numb):\n",
    "        res = re.sub( '[^0-9]+', '', numb )\n",
    "        if len(res) == 11:\n",
    "            result = re.sub(r'(\\d)(\\d{3})(\\d{3})(\\d{2})(\\d{2})',  r'+7(\\2)-\\3-\\4-\\5', res)\n",
    "        else:\n",
    "            result = re.sub(r'(\\d{3})(\\d{3})(\\d{2})(\\d{2})',  r'+7(\\1)\\2-\\3-\\4', res)\n",
    "    else:\n",
    "        result = ('The number {} is invalid'.format(numb)) \n",
    "    print(result)\n",
    "    \n",
    "phone_mask()"
   ]
  }
 ],
 "metadata": {
  "kernelspec": {
   "display_name": "Python 3",
   "language": "python",
   "name": "python3"
  },
  "language_info": {
   "codemirror_mode": {
    "name": "ipython",
    "version": 3
   },
   "file_extension": ".py",
   "mimetype": "text/x-python",
   "name": "python",
   "nbconvert_exporter": "python",
   "pygments_lexer": "ipython3",
   "version": "3.7.4"
  }
 },
 "nbformat": 4,
 "nbformat_minor": 2
}
